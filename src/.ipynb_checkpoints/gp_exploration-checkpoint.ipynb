{
 "cells": [
  {
   "cell_type": "code",
   "execution_count": 7,
   "metadata": {
    "collapsed": true
   },
   "outputs": [],
   "source": [
    "from __future__ import division, print_function\n",
    "\n",
    "import matplotlib.pyplot as plt\n",
    "%matplotlib inline\n",
    "import scipy.spatial as ss\n",
    "import pickle\n",
    "import os\n",
    "import numpy as np\n",
    "import random\n",
    "from sklearn.gaussian_process import GaussianProcessRegressor\n",
    "from sklearn.gaussian_process.kernels import WhiteKernel, RBF, RationalQuadratic, Matern\n",
    "from sklearn.model_selection import train_test_split\n",
    "from sklearn import preprocessing\n",
    "\n",
    "from sklearn.model_selection import learning_curve"
   ]
  },
  {
   "cell_type": "code",
   "execution_count": 8,
   "metadata": {
    "collapsed": true
   },
   "outputs": [],
   "source": [
    "data_loc = \"../Data\"\n",
    "phys_cache = \"proc_physical_3sig.pkl\"\n",
    "plot_loc = \"../Plots\"\n",
    "n_neighbors = 200"
   ]
  },
  {
   "cell_type": "code",
   "execution_count": 9,
   "metadata": {
    "collapsed": false
   },
   "outputs": [
    {
     "name": "stdout",
     "output_type": "stream",
     "text": [
      "Reading data from cache: proc_physical_3sig.pkl\n"
     ]
    }
   ],
   "source": [
    "# Load physical data\n",
    "if os.path.exists(os.path.join(data_loc,phys_cache)):\n",
    "    print(\"Reading data from cache:\",phys_cache)\n",
    "    with open(os.path.join(data_loc,phys_cache), 'rb') as handle:\n",
    "        X, y, names = pickle.load(handle)\n",
    "else:\n",
    "    raise NameError(\"%s not defined.\" % phys_cache)"
   ]
  },
  {
   "cell_type": "code",
   "execution_count": 14,
   "metadata": {
    "collapsed": false
   },
   "outputs": [],
   "source": [
    "def kd_training(X, y, est, n_neighbors=200):\n",
    "    \"\"\"\n",
    "    Docs\n",
    "    \n",
    "    Parameters\n",
    "    ----------\n",
    "    X : array (n_samples x n_features)\n",
    "        data\n",
    "    y : array (n_samples)\n",
    "        target variable\n",
    "    n_neighbors : int (optional)\n",
    "        Number of nearest neighbors for training.  Defaults to 200\n",
    "    \n",
    "    Returns\n",
    "    -------\n",
    "    inds : list\n",
    "        indicies of samples in X not used for \n",
    "    \n",
    "    \"\"\"\n",
    "    \n",
    "    # Build the kd tree for NN searching\n",
    "    tree = ss.KDTree(X)\n",
    "    \n",
    "    # Make list of sample indicies to prevent repeating\n",
    "    # inds = [x for x in range(X.shape[0])]\n",
    "    inds = list(np.arange(X_train.shape[0]))\n",
    "    \n",
    "    # Number of fitting batches\n",
    "    n_batches = int(X.shape[0]/n_neighbors)\n",
    "    n_batches = X.shape[0]\n",
    "    \n",
    "    # make arrays to store params\n",
    "    noise = np.zeros(n_batches)\n",
    "    length_scale = np.zeros_like(noise)\n",
    "    \n",
    "    # store std\n",
    "    std_list = []\n",
    "    \n",
    "    # Loop over fitting batches\n",
    "    for ii in range(n_batches):\n",
    "        # Draw random sample for fitting\n",
    "        # center = random.choice(inds)\n",
    "        center = ii\n",
    "        \n",
    "        # Find nearest neighbors for fitting\n",
    "        fit_dist, fit_inds = tree.query(X[center],k=n_neighbors)\n",
    "        # print(fit_inds)\n",
    "        \n",
    "        est.fit(X[fit_inds],y[fit_inds])\n",
    "        \n",
    "        # store kernel params here\n",
    "        noise[ii] = est.kernel_.k1.get_params()['noise_level']\n",
    "        length_scale[ii] = est.kernel_.k2.get_params()['length_scale']\n",
    "        \n",
    "        # store y_std\n",
    "        y_pred, y_std = est.predict(X[fit_inds], return_std=True)\n",
    "        std_list.append(y_std)\n",
    "        \n",
    "        # Remove previous samples from center consideration\n",
    "        for ind in fit_inds:\n",
    "            if ind in inds:\n",
    "                # inds.remove(ind)\n",
    "                pass\n",
    "                    \n",
    "    return std_list, noise, length_scale, fit_dist\n",
    "# end function\n",
    "\n",
    "\n",
    "\n",
    "\n",
    "def plot_learning_curve(estimator, title, X, y, ylim=None, cv=None,\n",
    "                        n_jobs=1, train_sizes=np.linspace(.1, 1.0, 5)):\n",
    "    \"\"\"\n",
    "    Generate a simple plot of the test and training learning curve.\n",
    "\n",
    "    Parameters\n",
    "    ----------\n",
    "    estimator : object type that implements the \"fit\" and \"predict\" methods\n",
    "        An object of that type which is cloned for each validation.\n",
    "\n",
    "    title : string\n",
    "        Title for the chart.\n",
    "\n",
    "    X : array-like, shape (n_samples, n_features)\n",
    "        Training vector, where n_samples is the number of samples and\n",
    "        n_features is the number of features.\n",
    "\n",
    "    y : array-like, shape (n_samples) or (n_samples, n_features), optional\n",
    "        Target relative to X for classification or regression;\n",
    "        None for unsupervised learning.\n",
    "\n",
    "    ylim : tuple, shape (ymin, ymax), optional\n",
    "        Defines minimum and maximum yvalues plotted.\n",
    "\n",
    "    cv : int, cross-validation generator or an iterable, optional\n",
    "        Determines the cross-validation splitting strategy.\n",
    "        Possible inputs for cv are:\n",
    "          - None, to use the default 3-fold cross-validation,\n",
    "          - integer, to specify the number of folds.\n",
    "          - An object to be used as a cross-validation generator.\n",
    "          - An iterable yielding train/test splits.\n",
    "\n",
    "        For integer/None inputs, if ``y`` is binary or multiclass,\n",
    "        :class:`StratifiedKFold` used. If the estimator is not a classifier\n",
    "        or if ``y`` is neither binary nor multiclass, :class:`KFold` is used.\n",
    "\n",
    "        Refer :ref:`User Guide <cross_validation>` for the various\n",
    "        cross-validators that can be used here.\n",
    "\n",
    "    n_jobs : integer, optional\n",
    "        Number of jobs to run in parallel (default 1).\n",
    "    \"\"\"\n",
    "    plt.figure()\n",
    "    plt.title(title)\n",
    "    if ylim is not None:\n",
    "        plt.ylim(*ylim)\n",
    "    plt.xlabel(\"Training examples\")\n",
    "    plt.ylabel(\"Score\")\n",
    "    train_sizes, train_scores, test_scores = learning_curve(\n",
    "        estimator, X, y, cv=cv, n_jobs=n_jobs, train_sizes=train_sizes)\n",
    "    train_scores_mean = np.mean(train_scores, axis=1)\n",
    "    train_scores_std = np.std(train_scores, axis=1)\n",
    "    test_scores_mean = np.mean(test_scores, axis=1)\n",
    "    test_scores_std = np.std(test_scores, axis=1)\n",
    "    plt.grid()\n",
    "\n",
    "    plt.fill_between(train_sizes, train_scores_mean - train_scores_std,\n",
    "                     train_scores_mean + train_scores_std, alpha=0.1,\n",
    "                     color=\"r\")\n",
    "    plt.fill_between(train_sizes, test_scores_mean - test_scores_std,\n",
    "                     test_scores_mean + test_scores_std, alpha=0.1, color=\"g\")\n",
    "    plt.plot(train_sizes, train_scores_mean, 'o-', color=\"r\",\n",
    "             label=\"Training score\")\n",
    "    plt.plot(train_sizes, test_scores_mean, 'o-', color=\"g\",\n",
    "             label=\"Cross-validation score\")\n",
    "\n",
    "    plt.legend(loc=\"best\")\n",
    "    plt.savefig(\"gp_matern.pdf\")\n",
    "    return plt"
   ]
  },
  {
   "cell_type": "code",
   "execution_count": 11,
   "metadata": {
    "collapsed": true
   },
   "outputs": [],
   "source": [
    "X_train, X_test, y_train, y_test = train_test_split(X, y, test_size = 0.2, random_state=42)\n",
    "\n",
    "# Scale data to 0 mean, 1 std\n",
    "scaler = preprocessing.StandardScaler().fit(X_train)\n",
    "X_train = scaler.transform(X_train)\n",
    "X_test = scaler.transform(X_test)"
   ]
  },
  {
   "cell_type": "code",
   "execution_count": 17,
   "metadata": {
    "collapsed": false
   },
   "outputs": [],
   "source": [
    "# kernel = WhiteKernel() + RBF()\n",
    "# kernel = WhiteKernel() + RationalQuadratic()\n",
    "kernel = WhiteKernel() + Matern()\n",
    "\n",
    "\n",
    "# add n_restarts_optimizer\n",
    "est = GaussianProcessRegressor(kernel=kernel, n_restarts_optimizer=2, random_state=42)\n",
    "\n",
    "# std_list, noise, length_scale, dist = kd_training(X_train[:500], y_train[:500], est, n_neighbors=64)\n",
    "slice = -1\n",
    "\n",
    "est.fit(X_train[:slice], y_train[:slice])\n",
    "noise = est.kernel_.k1.get_params()['noise_level']\n",
    "length_scale = est.kernel_.k2.get_params()['length_scale']\n",
    "y_pred, y_std = est.predict(X_train[:slice], return_std=True, return_cov=False)"
   ]
  },
  {
   "cell_type": "code",
   "execution_count": 18,
   "metadata": {
    "collapsed": false
   },
   "outputs": [
    {
     "data": {
      "text/plain": [
       "<module 'matplotlib.pyplot' from '/Users/mwilde/anaconda/lib/python2.7/site-packages/matplotlib/pyplot.pyc'>"
      ]
     },
     "execution_count": 18,
     "metadata": {},
     "output_type": "execute_result"
    },
    {
     "data": {
      "image/png": "[encoded data removed]",
      "text/plain": [
       "<matplotlib.figure.Figure at 0x10ec1ec50>"
      ]
     },
     "metadata": {},
     "output_type": "display_data"
    }
   ],
   "source": [
    "title = \"Gaussian Process Regressor with Matern Kernel\"\n",
    "plot_learning_curve(est, title, X_train[:slice], y_train[:slice], ylim=None, cv=None,\n",
    "                        n_jobs=1, train_sizes=np.linspace(.1, 1.0, 5))"
   ]
  },
  {
   "cell_type": "code",
   "execution_count": 15,
   "metadata": {
    "collapsed": false
   },
   "outputs": [
    {
     "data": {
      "text/plain": [
       "(0.0044720578324327839, 9.9999999999999974e-06, 6.8566786053948716)"
      ]
     },
     "execution_count": 15,
     "metadata": {},
     "output_type": "execute_result"
    }
   ],
   "source": [
    "np.median(y_std), np.median(noise), np.median(length_scale)"
   ]
  },
  {
   "cell_type": "code",
   "execution_count": null,
   "metadata": {
    "collapsed": false
   },
   "outputs": [],
   "source": [
    "plt.hist(length_scale, 10)"
   ]
  },
  {
   "cell_type": "code",
   "execution_count": null,
   "metadata": {
    "collapsed": false
   },
   "outputs": [],
   "source": [
    "plt.hist(noise)"
   ]
  },
  {
   "cell_type": "code",
   "execution_count": null,
   "metadata": {
    "collapsed": false
   },
   "outputs": [],
   "source": [
    "plt.hist(np.median(std_list, axis=1), 10)"
   ]
  },
  {
   "cell_type": "code",
   "execution_count": null,
   "metadata": {
    "collapsed": false
   },
   "outputs": [],
   "source": [
    "len(np.mean(std_list, axis=1))"
   ]
  },
  {
   "cell_type": "code",
   "execution_count": null,
   "metadata": {
    "collapsed": false
   },
   "outputs": [],
   "source": [
    "print(kernel)\n",
    "est = GaussianProcessRegressor(kernel=kernel, n_restarts_optimizer=0, alpha = 0.0)"
   ]
  },
  {
   "cell_type": "code",
   "execution_count": null,
   "metadata": {
    "collapsed": false
   },
   "outputs": [],
   "source": []
  },
  {
   "cell_type": "code",
   "execution_count": null,
   "metadata": {
    "collapsed": false
   },
   "outputs": [],
   "source": [
    "est.fit(X_train, y_train)"
   ]
  },
  {
   "cell_type": "code",
   "execution_count": null,
   "metadata": {
    "collapsed": false
   },
   "outputs": [],
   "source": [
    "print(est.score(X_train, y_train))\n",
    "print(est.score(X_test, y_test))"
   ]
  },
  {
   "cell_type": "code",
   "execution_count": null,
   "metadata": {
    "collapsed": true
   },
   "outputs": [],
   "source": []
  }
 ],
 "metadata": {
  "kernelspec": {
   "display_name": "Python 2",
   "language": "python",
   "name": "python2"
  },
  "language_info": {
   "codemirror_mode": {
    "name": "ipython",
    "version": 2
   },
   "file_extension": ".py",
   "mimetype": "text/x-python",
   "name": "python",
   "nbconvert_exporter": "python",
   "pygments_lexer": "ipython2",
   "version": "2.7.12"
  }
 },
 "nbformat": 4,
 "nbformat_minor": 0
}
