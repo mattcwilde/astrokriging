{
 "cells": [
  {
   "cell_type": "code",
   "execution_count": 1,
   "metadata": {
    "collapsed": false
   },
   "outputs": [],
   "source": [
    "from __future__ import print_function, division\n",
    "import os\n",
    "import matplotlib as mpl\n",
    "import matplotlib.pyplot as plt\n",
    "import scipy.spatial\n",
    "import numpy as np\n",
    "import bootstrap_utils as bu\n",
    "import pandas as pd\n",
    "%matplotlib inline\n",
    "\n",
    "import pickle\n",
    "\n",
    "\n",
    "# bigplanet Imports\n",
    "from bigplanet import data_extraction as de\n",
    "from bigplanet import big_ml as bml"
   ]
  },
  {
   "cell_type": "markdown",
   "metadata": {},
   "source": [
    "## Import the data and see what it looks like"
   ]
  },
  {
   "cell_type": "code",
   "execution_count": 70,
   "metadata": {
    "collapsed": false
   },
   "outputs": [
    {
     "data": {
      "text/plain": [
       "((9992, 23),\n",
       " (9992,),\n",
       " {u'Abs_ArgP_Diff': 18,\n",
       "  u'Abs_Ecce_Diff': 15,\n",
       "  u'Abs_Inc_Diff': 16,\n",
       "  u'Abs_LongA_Diff': 17,\n",
       "  u'b_DelG': 9,\n",
       "  u'b_DelH': 11,\n",
       "  u'b_Ecce': 0,\n",
       "  u'b_Inc': 1,\n",
       "  u'b_Mass': 20,\n",
       "  u'b_Semim': 2,\n",
       "  u'b_TidalQ': 19,\n",
       "  u'b_sinArgP': 5,\n",
       "  u'b_sinLongA': 7,\n",
       "  u'bc_DelH': 13,\n",
       "  u'c_DelG': 10,\n",
       "  u'c_DelH': 12,\n",
       "  u'c_Ecce': 3,\n",
       "  u'c_Inc': 4,\n",
       "  u'c_Mass': 21,\n",
       "  u'c_sinArgP': 6,\n",
       "  u'c_sinLongA': 8,\n",
       "  u'cb_DelH': 14,\n",
       "  u'star_Mass': 22})"
      ]
     },
     "execution_count": 70,
     "metadata": {},
     "output_type": "execute_result"
    }
   ],
   "source": [
    "a = pickle.load( open( \"../Data/proc_physical_3sig.pkl\", \"rb\" ) )\n",
    "a[0].shape, a[1].shape, a[2]"
   ]
  },
  {
   "cell_type": "markdown",
   "metadata": {},
   "source": [
    "## Data seems to be in a weird format so lets just play with the values"
   ]
  },
  {
   "cell_type": "code",
   "execution_count": 54,
   "metadata": {
    "collapsed": false
   },
   "outputs": [
    {
     "name": "stdout",
     "output_type": "stream",
     "text": [
      "(9992, 23)\n"
     ]
    }
   ],
   "source": [
    "from sklearn.neighbors import KDTree\n",
    "X = a[0]\n",
    "print(X.shape)"
   ]
  },
  {
   "cell_type": "markdown",
   "metadata": {},
   "source": [
    "## Make the tree and see how it works"
   ]
  },
  {
   "cell_type": "code",
   "execution_count": 68,
   "metadata": {
    "collapsed": false
   },
   "outputs": [
    {
     "name": "stdout",
     "output_type": "stream",
     "text": [
      "(9992, 200)\n"
     ]
    }
   ],
   "source": [
    "kdt = KDTree(X, leaf_size=40, metric='euclidean')\n",
    "dist, ind = kdt.query(X, k=200, return_distance=True)\n",
    "print(dist.shape)"
   ]
  },
  {
   "cell_type": "markdown",
   "metadata": {},
   "source": [
    "## Each point in the tree has a measured distance to the 200 nearest neighbors\n",
    "\n",
    "### these are stored in order of proximity"
   ]
  },
  {
   "cell_type": "code",
   "execution_count": 79,
   "metadata": {
    "collapsed": false
   },
   "outputs": [
    {
     "data": {
      "text/plain": [
       "[<matplotlib.lines.Line2D at 0x11f6a6610>]"
      ]
     },
     "execution_count": 79,
     "metadata": {},
     "output_type": "execute_result"
    },
    {
     "data": {
      "image/png": "[encoded data removed]",
      "text/plain": [
       "<matplotlib.figure.Figure at 0x11c73fe90>"
      ]
     },
     "metadata": {},
     "output_type": "display_data"
    }
   ],
   "source": [
    "plt.plot(dist[8])"
   ]
  },
  {
   "cell_type": "code",
   "execution_count": null,
   "metadata": {
    "collapsed": true
   },
   "outputs": [],
   "source": []
  }
 ],
 "metadata": {
  "kernelspec": {
   "display_name": "Python 2",
   "language": "python",
   "name": "python2"
  },
  "language_info": {
   "codemirror_mode": {
    "name": "ipython",
    "version": 2
   },
   "file_extension": ".py",
   "mimetype": "text/x-python",
   "name": "python",
   "nbconvert_exporter": "python",
   "pygments_lexer": "ipython2",
   "version": "2.7.12"
  }
 },
 "nbformat": 4,
 "nbformat_minor": 0
}
