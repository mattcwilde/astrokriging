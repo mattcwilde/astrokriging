{
 "cells": [
  {
   "cell_type": "code",
   "execution_count": 1,
   "metadata": {
    "collapsed": true
   },
   "outputs": [],
   "source": [
    "from __future__ import division, print_function\n",
    "\n",
    "import matplotlib.pyplot as plt\n",
    "%matplotlib inline\n",
    "import scipy.spatial as ss\n",
    "import pickle\n",
    "import os\n",
    "import numpy as np\n",
    "import random\n",
    "from sklearn.gaussian_process import GaussianProcessRegressor\n",
    "from sklearn.gaussian_process.kernels import WhiteKernel, RBF, RationalQuadratic, Matern\n",
    "from sklearn.model_selection import train_test_split\n",
    "from sklearn import preprocessing\n",
    "\n",
    "from sklearn.model_selection import learning_curve"
   ]
  },
  {
   "cell_type": "code",
   "execution_count": 2,
   "metadata": {
    "collapsed": true
   },
   "outputs": [],
   "source": [
    "data_loc = \"../Data\"\n",
    "phys_cache = \"proc_physical_3sig.pkl\"\n",
    "plot_loc = \"../Plots\"\n",
    "n_neighbors = 200"
   ]
  },
  {
   "cell_type": "code",
   "execution_count": 3,
   "metadata": {
    "collapsed": false
   },
   "outputs": [
    {
     "name": "stdout",
     "output_type": "stream",
     "text": [
      "Reading data from cache: proc_physical_3sig.pkl\n"
     ]
    }
   ],
   "source": [
    "# Load physical data\n",
    "if os.path.exists(os.path.join(data_loc,phys_cache)):\n",
    "    print(\"Reading data from cache:\",phys_cache)\n",
    "    with open(os.path.join(data_loc,phys_cache), 'rb') as handle:\n",
    "        X, y, names = pickle.load(handle)\n",
    "else:\n",
    "    raise NameError(\"%s not defined.\" % phys_cache)"
   ]
  },
  {
   "cell_type": "markdown",
   "metadata": {},
   "source": [
    "## Use a KD-Tree and Run Gaussian Processes on batches of the Data\n",
    "\n",
    "After the GP has been run on a batch, remove the batch and run GP on another part of the data. The problem seems to be we dont touch every point."
   ]
  },
  {
   "cell_type": "code",
   "execution_count": 4,
   "metadata": {
    "collapsed": false
   },
   "outputs": [],
   "source": [
    "def kd_training(X, y, est, n_neighbors=200):\n",
    "    \"\"\"\n",
    "    Docs TODO\n",
    "    \n",
    "    Parameters\n",
    "    ----------\n",
    "    X : array (n_samples x n_features)\n",
    "        data\n",
    "    y : array (n_samples)\n",
    "        target variable\n",
    "    n_neighbors : int (optional)\n",
    "        Number of nearest neighbors for training.  Defaults to 200\n",
    "    \n",
    "    Returns\n",
    "    -------\n",
    "    inds : list\n",
    "        indicies of samples in X not used for \n",
    "    \n",
    "    \"\"\"\n",
    "    \n",
    "    # Build the kd tree for NN searching\n",
    "    tree = ss.KDTree(X)\n",
    "    \n",
    "    # Make list of sample indicies to prevent repeating\n",
    "    # inds = [x for x in range(X.shape[0])]\n",
    "    inds = list(np.arange(X_train.shape[0]))\n",
    "    \n",
    "    # Number of fitting batches\n",
    "    n_batches = int(X.shape[0]/n_neighbors)\n",
    "    n_batches = X.shape[0]\n",
    "    \n",
    "    # make arrays to store params\n",
    "    noise = np.zeros(n_batches)\n",
    "    length_scale = np.zeros_like(noise)\n",
    "    \n",
    "    # store std\n",
    "    std_list = []\n",
    "    \n",
    "    # Loop over fitting batches\n",
    "    for ii in range(n_batches):\n",
    "        # Draw random sample for fitting\n",
    "        # center = random.choice(inds)\n",
    "        center = ii\n",
    "        \n",
    "        # Find nearest neighbors for fitting\n",
    "        fit_dist, fit_inds = tree.query(X[center],k=n_neighbors)\n",
    "        # print(fit_inds)\n",
    "        \n",
    "        est.fit(X[fit_inds],y[fit_inds])\n",
    "        \n",
    "        # store kernel params here\n",
    "        noise[ii] = est.kernel_.k1.get_params()['noise_level']\n",
    "        length_scale[ii] = est.kernel_.k2.get_params()['length_scale']\n",
    "        \n",
    "        # store y_std\n",
    "        y_pred, y_std = est.predict(X[fit_inds], return_std=True)\n",
    "        std_list.append(y_std)\n",
    "        \n",
    "        # Remove previous samples from center consideration\n",
    "        for ind in fit_inds:\n",
    "            if ind in inds:\n",
    "                inds.remove(ind)\n",
    "                pass\n",
    "                    \n",
    "    return std_list, noise, length_scale, fit_dist\n",
    "# end function"
   ]
  },
  {
   "cell_type": "code",
   "execution_count": 9,
   "metadata": {
    "collapsed": false
   },
   "outputs": [],
   "source": [
    "X_train, X_test, y_train, y_test = train_test_split(X, y, test_size = 0.2, random_state=42)\n",
    "\n",
    "# Scale data to 0 mean, 1 std\n",
    "scaler = preprocessing.StandardScaler().fit(X_train)\n",
    "X_train = scaler.transform(X_train)\n",
    "X_test = scaler.transform(X_test)\n",
    "\n",
    "# Matern gives \n",
    "kernel = WhiteKernel() + Matern()\n",
    "\n",
    "# add n_restarts_optimizer\n",
    "est = GaussianProcessRegressor(kernel=kernel, n_restarts_optimizer=2, random_state=42)"
   ]
  },
  {
   "cell_type": "code",
   "execution_count": 10,
   "metadata": {
    "collapsed": false
   },
   "outputs": [
    {
     "name": "stderr",
     "output_type": "stream",
     "text": [
      "/Users/mwilde/anaconda/lib/python2.7/site-packages/sklearn/gaussian_process/gpr.py:427: UserWarning: fmin_l_bfgs_b terminated abnormally with the  state: {'warnflag': 2, 'task': 'ABNORMAL_TERMINATION_IN_LNSRCH', 'grad': array([  5.40773520e-04,   1.21169048e-05]), 'nit': 7, 'funcalls': 50}\n",
      "  \" state: %s\" % convergence_dict)\n"
     ]
    }
   ],
   "source": [
    "std_list, noise, length_scale, fit_dist = kd_training(X_train, y_train, est, n_neighbors=200)"
   ]
  },
  {
   "cell_type": "code",
   "execution_count": 11,
   "metadata": {
    "collapsed": false
   },
   "outputs": [
    {
     "data": {
      "text/plain": [
       "(array([  2.00000000e+00,   0.00000000e+00,   2.00000000e+00,\n",
       "          4.00000000e+00,   1.20000000e+01,   9.00000000e+01,\n",
       "          5.72000000e+02,   3.35900000e+03,   3.65000000e+03,\n",
       "          3.02000000e+02]),\n",
       " array([ 0.00447193,  0.04181086,  0.07914979,  0.11648873,  0.15382766,\n",
       "         0.1911666 ,  0.22850553,  0.26584446,  0.3031834 ,  0.34052233,\n",
       "         0.37786127]),\n",
       " <a list of 10 Patch objects>)"
      ]
     },
     "execution_count": 11,
     "metadata": {},
     "output_type": "execute_result"
    },
    {
     "data": {
      "image/png": "[encoded data removed]",
      "text/plain": [
       "<matplotlib.figure.Figure at 0x10e9b9710>"
      ]
     },
     "metadata": {},
     "output_type": "display_data"
    }
   ],
   "source": [
    "plt.hist(np.median(std_list, axis=1), 10)"
   ]
  },
  {
   "cell_type": "code",
   "execution_count": 14,
   "metadata": {
    "collapsed": false
   },
   "outputs": [
    {
     "data": {
      "text/plain": [
       "(array([  2.00000000e+00,   0.00000000e+00,   2.00000000e+00,\n",
       "          4.00000000e+00,   1.20000000e+01,   9.40000000e+01,\n",
       "          5.69000000e+02,   3.37600000e+03,   3.63400000e+03,\n",
       "          3.00000000e+02]),\n",
       " array([ 0.00447191,  0.04187583,  0.07927976,  0.11668368,  0.1540876 ,\n",
       "         0.19149152,  0.22889544,  0.26629936,  0.30370329,  0.34110721,\n",
       "         0.37851113]),\n",
       " <a list of 10 Patch objects>)"
      ]
     },
     "execution_count": 14,
     "metadata": {},
     "output_type": "execute_result"
    },
    {
     "data": {
      "image/png": "[encoded data removed]",
      "text/plain": [
       "<matplotlib.figure.Figure at 0x1108165d0>"
      ]
     },
     "metadata": {},
     "output_type": "display_data"
    }
   ],
   "source": [
    "plt.hist(np.mean(std_list, axis=1))"
   ]
  },
  {
   "cell_type": "code",
   "execution_count": 15,
   "metadata": {
    "collapsed": false
   },
   "outputs": [
    {
     "data": {
      "text/plain": [
       "7993"
      ]
     },
     "execution_count": 15,
     "metadata": {},
     "output_type": "execute_result"
    }
   ],
   "source": [
    "len(X_train)"
   ]
  },
  {
   "cell_type": "code",
   "execution_count": 16,
   "metadata": {
    "collapsed": false
   },
   "outputs": [
    {
     "ename": "NameError",
     "evalue": "name 'std' is not defined",
     "output_type": "error",
     "traceback": [
      "\u001b[0;31m---------------------------------------------------------------------------\u001b[0m",
      "\u001b[0;31mNameError\u001b[0m                                 Traceback (most recent call last)",
      "\u001b[0;32m<ipython-input-16-e05bd567a4bc>\u001b[0m in \u001b[0;36m<module>\u001b[0;34m()\u001b[0m\n\u001b[0;32m----> 1\u001b[0;31m \u001b[0mlen\u001b[0m\u001b[0;34m(\u001b[0m\u001b[0mstd\u001b[0m\u001b[0;34m)\u001b[0m\u001b[0;34m\u001b[0m\u001b[0m\n\u001b[0m",
      "\u001b[0;31mNameError\u001b[0m: name 'std' is not defined"
     ]
    }
   ],
   "source": [
    "len(std)"
   ]
  },
  {
   "cell_type": "code",
   "execution_count": null,
   "metadata": {
    "collapsed": true
   },
   "outputs": [],
   "source": []
  }
 ],
 "metadata": {
  "kernelspec": {
   "display_name": "Python 2",
   "language": "python",
   "name": "python2"
  },
  "language_info": {
   "codemirror_mode": {
    "name": "ipython",
    "version": 2
   },
   "file_extension": ".py",
   "mimetype": "text/x-python",
   "name": "python",
   "nbconvert_exporter": "python",
   "pygments_lexer": "ipython2",
   "version": "2.7.12"
  }
 },
 "nbformat": 4,
 "nbformat_minor": 0
}
